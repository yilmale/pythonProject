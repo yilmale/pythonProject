{
 "cells": [
  {
   "cell_type": "code",
   "execution_count": 6,
   "metadata": {},
   "outputs": [],
   "source": [
    "from __future__ import (absolute_import, print_function, division,\n",
    "                        unicode_literals)\n",
    "\n",
    "\n",
    "from ema_workbench import (Model, RealParameter, MultiprocessingEvaluator, CategoricalParameter,\n",
    "                           IntegerParameter, ScalarOutcome, ArrayOutcome, Constant, ema_logging,\n",
    "                           perform_experiments)\n",
    "from ema_workbench.em_framework.evaluators import (MC,LHS,SOBOL)\n",
    "\n",
    "from ema_workbench.analysis import feature_scoring\n",
    "from ema_workbench.analysis import prim\n",
    "\n",
    "from ema_workbench.analysis import scenario_discovery_util as sdutil\n",
    "\n",
    "import pandas as pd\n",
    "import seaborn as sns\n",
    "import numpy as np\n",
    "\n",
    "import matplotlib.pyplot as plt"
   ]
  },
  {
   "cell_type": "code",
   "execution_count": null,
   "metadata": {},
   "outputs": [],
   "source": []
  },
  {
   "cell_type": "code",
   "execution_count": null,
   "metadata": {},
   "outputs": [],
   "source": []
  },
  {
   "cell_type": "markdown",
   "metadata": {},
   "source": [
    "x = 3\n",
    "print(x)"
   ]
  },
  {
   "cell_type": "raw",
   "metadata": {},
   "source": [
    "Test\n",
    "\n",
    "\n",
    "Try this"
   ]
  },
  {
   "cell_type": "code",
   "execution_count": 7,
   "metadata": {},
   "outputs": [],
   "source": [
    "def relativeRegret(data,outcomes,designParams,contextParams,outcomeParams):\n",
    "    myres = {}\n",
    "    design = []\n",
    "    scenario = []\n",
    "    designSet = set()\n",
    "    contextSet = set()\n",
    "\n",
    "    for ind in data.index:\n",
    "        for i in designParams:\n",
    "            design.append(data[i][ind])\n",
    "        for j in contextParams:\n",
    "            scenario.append(data[j][ind])\n",
    "        elm = {(tuple(design), tuple(scenario)): outcomes[outcomeParams[0]][ind]}\n",
    "        myres.update(elm)\n",
    "        designSet.add(tuple(design))\n",
    "        contextSet.add(tuple(scenario))\n",
    "        design = []\n",
    "        scenario = []\n",
    "\n",
    "    measures = {}\n",
    "    for sc in contextSet:\n",
    "        m = []\n",
    "        for d in designSet:\n",
    "            o = myres[(d, sc)]\n",
    "            m.append(o)\n",
    "            measures[sc] = m\n",
    "\n",
    "    maxs = {}\n",
    "    for sc in contextSet:\n",
    "        maxs[sc] = max(measures[sc])\n",
    "\n",
    "    regret = {}\n",
    "    for sc in contextSet:\n",
    "        for d in designSet:\n",
    "            rm = {(d, sc): (maxs[sc] - myres[(d, sc)]) / maxs[sc]}\n",
    "            regret.update(rm)\n",
    "\n",
    "    return (regret,contextSet,designSet)\n",
    "\n",
    "\n",
    "\n",
    "\n"
   ]
  },
  {
   "cell_type": "code",
   "execution_count": null,
   "metadata": {},
   "outputs": [],
   "source": []
  },
  {
   "cell_type": "markdown",
   "metadata": {},
   "source": [
    "This is \n",
    "\n",
    "ef'ewfewfew\n",
    "'\n",
    "ewf\n",
    "ew'f\n",
    "ew'\n",
    "ewwe\n"
   ]
  },
  {
   "cell_type": "code",
   "execution_count": 8,
   "metadata": {},
   "outputs": [],
   "source": [
    "import pandas as pd\n",
    "data = pd.read_csv('omegaExperiment.csv')\n",
    "outcomes = pd.read_csv('omegaResults.csv')\n",
    "\n",
    "data = data[['SCUDB.targetRange', 'SCUDB.targetAltitude', 'SCUDB.MassProperties.initialMass']]\n",
    "outcomes = outcomes[['burnout', 'impact', 'apogeeAlt', 'apogeeTime']]\n",
    "\n"
   ]
  },
  {
   "cell_type": "code",
   "execution_count": 9,
   "metadata": {},
   "outputs": [
    {
     "name": "stdout",
     "output_type": "stream",
     "text": [
      "    SCUDB.targetRange  SCUDB.targetAltitude  SCUDB.MassProperties.initialMass\n",
      "0       194309.994762          17899.496516                       5934.265685\n",
      "1       101654.444957          19863.285663                       5934.265685\n",
      "2       177970.762969          17139.581542                       5934.265685\n",
      "3       139675.343339          16989.007168                       5934.265685\n",
      "4       154970.990475          19331.595554                       5934.265685\n",
      "..                ...                   ...                               ...\n",
      "95      188804.475102          15168.837085                       5475.705879\n",
      "96      123257.336063          16463.010894                       5475.705879\n",
      "97      163408.151044          18282.136538                       5475.705879\n",
      "98      117220.924396          18513.405635                       5475.705879\n",
      "99      148417.117823          15978.205399                       5475.705879\n",
      "\n",
      "[100 rows x 3 columns]\n"
     ]
    }
   ],
   "source": [
    "print(data)"
   ]
  },
  {
   "cell_type": "code",
   "execution_count": 10,
   "metadata": {},
   "outputs": [
    {
     "data": {
      "text/plain": [
       "<bound method NDFrame.head of     SCUDB.targetRange  SCUDB.targetAltitude  SCUDB.MassProperties.initialMass\n",
       "0       194309.994762          17899.496516                       5934.265685\n",
       "1       101654.444957          19863.285663                       5934.265685\n",
       "2       177970.762969          17139.581542                       5934.265685\n",
       "3       139675.343339          16989.007168                       5934.265685\n",
       "4       154970.990475          19331.595554                       5934.265685\n",
       "..                ...                   ...                               ...\n",
       "95      188804.475102          15168.837085                       5475.705879\n",
       "96      123257.336063          16463.010894                       5475.705879\n",
       "97      163408.151044          18282.136538                       5475.705879\n",
       "98      117220.924396          18513.405635                       5475.705879\n",
       "99      148417.117823          15978.205399                       5475.705879\n",
       "\n",
       "[100 rows x 3 columns]>"
      ]
     },
     "execution_count": 10,
     "metadata": {},
     "output_type": "execute_result"
    }
   ],
   "source": [
    "data.head"
   ]
  },
  {
   "cell_type": "code",
   "execution_count": 11,
   "metadata": {},
   "outputs": [],
   "source": [
    "designParams = ['SCUDB.MassProperties.initialMass']\n",
    "contextParams = ['SCUDB.targetRange', 'SCUDB.targetAltitude']\n",
    "outcomeParams = ['burnout']\n",
    "\n",
    "r,ctx,dsg = relativeRegret(data,outcomes,designParams,contextParams,outcomeParams)"
   ]
  },
  {
   "cell_type": "code",
   "execution_count": 12,
   "metadata": {},
   "outputs": [
    {
     "data": {
      "text/plain": [
       "{((5475.705879031485,),\n",
       "  (188804.47510191367, 15168.837085361632)): 0.07588489941431116,\n",
       " ((5393.467446169235,),\n",
       "  (188804.47510191367, 15168.837085361632)): 0.0892963245904422,\n",
       " ((5816.6294417382705,),\n",
       "  (188804.47510191367, 15168.837085361632)): 0.019607843137254923,\n",
       " ((5934.265685006311,), (188804.47510191367, 15168.837085361632)): 0.0,\n",
       " ((5725.084392914211,),\n",
       "  (188804.47510191367, 15168.837085361632)): 0.03488668194550547,\n",
       " ((5046.555985630564,),\n",
       "  (188804.47510191367, 15168.837085361632)): 0.144809438927086,\n",
       " ((5615.723213974947,),\n",
       "  (188804.47510191367, 15168.837085361632)): 0.052966641201935394,\n",
       " ((5542.0918727504795,),\n",
       "  (188804.47510191367, 15168.837085361632)): 0.06501994737288852,\n",
       " ((5213.449448020529,),\n",
       "  (188804.47510191367, 15168.837085361632)): 0.1183261183261183,\n",
       " ((5112.418074245511,),\n",
       "  (188804.47510191367, 15168.837085361632)): 0.13436889907478142,\n",
       " ((5475.705879031485,),\n",
       "  (123257.33606324367, 16463.010893961884)): 0.0751488095238095,\n",
       " ((5393.467446169235,),\n",
       "  (123257.33606324367, 16463.010893961884)): 0.08826264880952377,\n",
       " ((5816.6294417382705,),\n",
       "  (123257.33606324367, 16463.010893961884)): 0.019438244047618947,\n",
       " ((5934.265685006311,), (123257.33606324367, 16463.010893961884)): 0.0,\n",
       " ((5725.084392914211,),\n",
       "  (123257.33606324367, 16463.010893961884)): 0.03478422619047614,\n",
       " ((5046.555985630564,),\n",
       "  (123257.33606324367, 16463.010893961884)): 0.14276413690476186,\n",
       " ((5615.723213974947,),\n",
       "  (123257.33606324367, 16463.010893961884)): 0.05245535714285715,\n",
       " ((5542.0918727504795,),\n",
       "  (123257.33606324367, 16463.010893961884)): 0.06445312499999993,\n",
       " ((5213.449448020529,),\n",
       "  (123257.33606324367, 16463.010893961884)): 0.11672247023809522,\n",
       " ((5112.418074245511,),\n",
       "  (123257.33606324367, 16463.010893961884)): 0.13253348214285715,\n",
       " ((5475.705879031485,),\n",
       "  (148417.11782261735, 15978.20539939137)): 0.07552060058986507,\n",
       " ((5393.467446169235,),\n",
       "  (148417.11782261735, 15978.20539939137)): 0.08874787737956928,\n",
       " ((5816.6294417382705,),\n",
       "  (148417.11782261735, 15978.20539939137)): 0.019572794709089264,\n",
       " ((5934.265685006311,), (148417.11782261735, 15978.20539939137)): 0.0,\n",
       " ((5725.084392914211,),\n",
       "  (148417.11782261735, 15978.20539939137)): 0.03494503530252924,\n",
       " ((5046.555985630564,),\n",
       "  (148417.11782261735, 15978.20539939137)): 0.14380194834212176,\n",
       " ((5615.723213974947,),\n",
       "  (148417.11782261735, 15978.20539939137)): 0.052730360175172096,\n",
       " ((5542.0918727504795,),\n",
       "  (148417.11782261735, 15978.20539939137)): 0.06479578157118598,\n",
       " ((5213.449448020529,),\n",
       "  (148417.11782261735, 15978.20539939137)): 0.11743676825453571,\n",
       " ((5112.418074245511,),\n",
       "  (148417.11782261735, 15978.20539939137)): 0.13334524979890966,\n",
       " ((5475.705879031485,),\n",
       "  (163408.15104448446, 18282.13653790799)): 0.07582897033158811,\n",
       " ((5393.467446169235,),\n",
       "  (163408.15104448446, 18282.13653790799)): 0.08917975567190227,\n",
       " ((5816.6294417382705,),\n",
       "  (163408.15104448446, 18282.13653790799)): 0.01963350785340314,\n",
       " ((5934.265685006311,), (163408.15104448446, 18282.13653790799)): 0.0,\n",
       " ((5725.084392914211,),\n",
       "  (163408.15104448446, 18282.13653790799)): 0.034991273996509524,\n",
       " ((5046.555985630564,),\n",
       "  (163408.15104448446, 18282.13653790799)): 0.14450261780104703,\n",
       " ((5615.723213974947,),\n",
       "  (163408.15104448446, 18282.13653790799)): 0.053054101221640476,\n",
       " ((5542.0918727504795,),\n",
       "  (163408.15104448446, 18282.13653790799)): 0.06492146596858638,\n",
       " ((5213.449448020529,),\n",
       "  (163408.15104448446, 18282.13653790799)): 0.11806282722513091,\n",
       " ((5112.418074245511,),\n",
       "  (163408.15104448446, 18282.13653790799)): 0.13420593368237344,\n",
       " ((5475.705879031485,),\n",
       "  (177970.76296935216, 17139.581542399686)): 0.07592004803980436,\n",
       " ((5393.467446169235,),\n",
       "  (177970.76296935216, 17139.581542399686)): 0.08938835034743063,\n",
       " ((5816.6294417382705,),\n",
       "  (177970.76296935216, 17139.581542399686)): 0.019644848588830678,\n",
       " ((5934.265685006311,), (177970.76296935216, 17139.581542399686)): 0.0,\n",
       " ((5725.084392914211,),\n",
       "  (177970.76296935216, 17139.581542399686)): 0.03500042892682507,\n",
       " ((5046.555985630564,),\n",
       "  (177970.76296935216, 17139.581542399686)): 0.1447199107832203,\n",
       " ((5615.723213974947,),\n",
       "  (177970.76296935216, 17139.581542399686)): 0.05301535558033793,\n",
       " ((5542.0918727504795,),\n",
       "  (177970.76296935216, 17139.581542399686)): 0.06502530668267992,\n",
       " ((5213.449448020529,),\n",
       "  (177970.76296935216, 17139.581542399686)): 0.11829801835806805,\n",
       " ((5112.418074245511,),\n",
       "  (177970.76296935216, 17139.581542399686)): 0.13433988161619626,\n",
       " ((5475.705879031485,),\n",
       "  (117220.92439644404, 18513.40563481938)): 0.0752224824355972,\n",
       " ((5393.467446169235,),\n",
       "  (117220.92439644404, 18513.40563481938)): 0.08843091334894611,\n",
       " ((5816.6294417382705,),\n",
       "  (117220.92439644404, 18513.40563481938)): 0.019484777517564385,\n",
       " ((5934.265685006311,), (117220.92439644404, 18513.40563481938)): 0.0,\n",
       " ((5725.084392914211,),\n",
       "  (117220.92439644404, 18513.40563481938)): 0.034754098360655676,\n",
       " ((5046.555985630564,),\n",
       "  (117220.92439644404, 18513.40563481938)): 0.14323185011709608,\n",
       " ((5615.723213974947,),\n",
       "  (117220.92439644404, 18513.40563481938)): 0.052646370023419244,\n",
       " ((5542.0918727504795,),\n",
       "  (117220.92439644404, 18513.40563481938)): 0.0645433255269321,\n",
       " ((5213.449448020529,),\n",
       "  (117220.92439644404, 18513.40563481938)): 0.11718969555035133,\n",
       " ((5112.418074245511,),\n",
       "  (117220.92439644404, 18513.40563481938)): 0.13292740046838405,\n",
       " ((5475.705879031485,),\n",
       "  (101654.44495714606, 19863.2856633292)): 0.07530091478093398,\n",
       " ((5393.467446169235,),\n",
       "  (101654.44495714606, 19863.2856633292)): 0.08839672604718338,\n",
       " ((5816.6294417382705,),\n",
       "  (101654.44495714606, 19863.2856633292)): 0.019547424169475216,\n",
       " ((5934.265685006311,), (101654.44495714606, 19863.2856633292)): 0.0,\n",
       " ((5725.084392914211,),\n",
       "  (101654.44495714606, 19863.2856633292)): 0.03476167549350024,\n",
       " ((5046.555985630564,),\n",
       "  (101654.44495714606, 19863.2856633292)): 0.14299470389985552,\n",
       " ((5615.723213974947,),\n",
       "  (101654.44495714606, 19863.2856633292)): 0.05267212325469426,\n",
       " ((5542.0918727504795,),\n",
       "  (101654.44495714606, 19863.2856633292)): 0.0646124217621569,\n",
       " ((5213.449448020529,),\n",
       "  (101654.44495714606, 19863.2856633292)): 0.11699566682715447,\n",
       " ((5112.418074245511,),\n",
       "  (101654.44495714606, 19863.2856633292)): 0.13269138180067408,\n",
       " ((5475.705879031485,),\n",
       "  (154970.9904749166, 19331.59555397015)): 0.07587908698334361,\n",
       " ((5393.467446169235,),\n",
       "  (154970.9904749166, 19331.59555397015)): 0.08918656913721693,\n",
       " ((5816.6294417382705,),\n",
       "  (154970.9904749166, 19331.59555397015)): 0.01965277165770692,\n",
       " ((5934.265685006311,), (154970.9904749166, 19331.59555397015)): 0.0,\n",
       " ((5725.084392914211,),\n",
       "  (154970.9904749166, 19331.59555397015)): 0.03507535031285806,\n",
       " ((5046.555985630564,),\n",
       "  (154970.9904749166, 19331.59555397015)): 0.1445315942539879,\n",
       " ((5615.723213974947,),\n",
       "  (154970.9904749166, 19331.59555397015)): 0.052965541552833395,\n",
       " ((5542.0918727504795,),\n",
       "  (154970.9904749166, 19331.59555397015)): 0.06503921741429448,\n",
       " ((5213.449448020529,),\n",
       "  (154970.9904749166, 19331.59555397015)): 0.118181017008901,\n",
       " ((5112.418074245511,),\n",
       "  (154970.9904749166, 19331.59555397015)): 0.13413236978937162,\n",
       " ((5475.705879031485,),\n",
       "  (194309.99476155106, 17899.49651565495)): 0.07610798082583464,\n",
       " ((5393.467446169235,),\n",
       "  (194309.99476155106, 17899.49651565495)): 0.08956353544697664,\n",
       " ((5816.6294417382705,),\n",
       "  (194309.99476155106, 17899.49651565495)): 0.019594651417038082,\n",
       " ((5934.265685006311,), (194309.99476155106, 17899.49651565495)): 0.0,\n",
       " ((5725.084392914211,),\n",
       "  (194309.99476155106, 17899.49651565495)): 0.03498444201496928,\n",
       " ((5046.555985630564,),\n",
       "  (194309.99476155106, 17899.49651565495)): 0.14523589269195186,\n",
       " ((5615.723213974947,),\n",
       "  (194309.99476155106, 17899.49651565495)): 0.053149440753511,\n",
       " ((5542.0918727504795,),\n",
       "  (194309.99476155106, 17899.49651565495)): 0.06525943991253882,\n",
       " ((5213.449448020529,),\n",
       "  (194309.99476155106, 17899.49651565495)): 0.11866117231519636,\n",
       " ((5112.418074245511,),\n",
       "  (194309.99476155106, 17899.49651565495)): 0.13472374064418466,\n",
       " ((5475.705879031485,),\n",
       "  (139675.3433389943, 16989.007167849442)): 0.07542051003798159,\n",
       " ((5393.467446169235,),\n",
       "  (139675.3433389943, 16989.007167849442)): 0.08862362090793993,\n",
       " ((5816.6294417382705,),\n",
       "  (139675.3433389943, 16989.007167849442)): 0.019623801772472433,\n",
       " ((5934.265685006311,), (139675.3433389943, 16989.007167849442)): 0.0,\n",
       " ((5725.084392914211,),\n",
       "  (139675.3433389943, 16989.007167849442)): 0.034816422499547785,\n",
       " ((5046.555985630564,),\n",
       "  (139675.3433389943, 16989.007167849442)): 0.1436064387773557,\n",
       " ((5615.723213974947,),\n",
       "  (139675.3433389943, 16989.007167849442)): 0.052722011213601,\n",
       " ((5542.0918727504795,),\n",
       "  (139675.3433389943, 16989.007167849442)): 0.06465907035630306,\n",
       " ((5213.449448020529,),\n",
       "  (139675.3433389943, 16989.007167849442)): 0.11729064930367154,\n",
       " ((5112.418074245511,),\n",
       "  (139675.3433389943, 16989.007167849442)): 0.13320672816060775}"
      ]
     },
     "execution_count": 12,
     "metadata": {},
     "output_type": "execute_result"
    }
   ],
   "source": [
    "r"
   ]
  },
  {
   "cell_type": "code",
   "execution_count": 2,
   "metadata": {},
   "outputs": [],
   "source": [
    "def minmax(r,dsg,ctx):\n",
    "    worstRegret = {}\n",
    "    for d in dsg:\n",
    "        rdata = []\n",
    "        for sc in ctx:\n",
    "            rdata.append(r[d, sc])\n",
    "        elm = {d: rdata}\n",
    "        worstRegret.update(elm)\n",
    "\n",
    "    print(worstRegret)\n",
    "    maxs = []\n",
    "    maxvs = []\n",
    "    for d, l in worstRegret.items():\n",
    "        maxs.append(max(l))\n",
    "        maxvs.append((d, max(l)))\n",
    "\n",
    "    print(maxvs)\n",
    "    minmax = min(maxs)\n",
    "    minmaxKey=0\n",
    "    for x in maxvs:\n",
    "        if (x[1] == minmax):\n",
    "            minmaxKey = x[0]\n",
    "\n",
    "    return minmaxKey,minmax"
   ]
  },
  {
   "cell_type": "code",
   "execution_count": null,
   "metadata": {},
   "outputs": [],
   "source": []
  },
  {
   "cell_type": "code",
   "execution_count": 13,
   "metadata": {},
   "outputs": [
    {
     "name": "stdout",
     "output_type": "stream",
     "text": [
      "{(5475.705879031485,): [0.07588489941431116, 0.0751488095238095, 0.07552060058986507, 0.07582897033158811, 0.07592004803980436, 0.0752224824355972, 0.07530091478093398, 0.07587908698334361, 0.07610798082583464, 0.07542051003798159], (5393.467446169235,): [0.0892963245904422, 0.08826264880952377, 0.08874787737956928, 0.08917975567190227, 0.08938835034743063, 0.08843091334894611, 0.08839672604718338, 0.08918656913721693, 0.08956353544697664, 0.08862362090793993], (5816.6294417382705,): [0.019607843137254923, 0.019438244047618947, 0.019572794709089264, 0.01963350785340314, 0.019644848588830678, 0.019484777517564385, 0.019547424169475216, 0.01965277165770692, 0.019594651417038082, 0.019623801772472433], (5934.265685006311,): [0.0, 0.0, 0.0, 0.0, 0.0, 0.0, 0.0, 0.0, 0.0, 0.0], (5725.084392914211,): [0.03488668194550547, 0.03478422619047614, 0.03494503530252924, 0.034991273996509524, 0.03500042892682507, 0.034754098360655676, 0.03476167549350024, 0.03507535031285806, 0.03498444201496928, 0.034816422499547785], (5046.555985630564,): [0.144809438927086, 0.14276413690476186, 0.14380194834212176, 0.14450261780104703, 0.1447199107832203, 0.14323185011709608, 0.14299470389985552, 0.1445315942539879, 0.14523589269195186, 0.1436064387773557], (5615.723213974947,): [0.052966641201935394, 0.05245535714285715, 0.052730360175172096, 0.053054101221640476, 0.05301535558033793, 0.052646370023419244, 0.05267212325469426, 0.052965541552833395, 0.053149440753511, 0.052722011213601], (5542.0918727504795,): [0.06501994737288852, 0.06445312499999993, 0.06479578157118598, 0.06492146596858638, 0.06502530668267992, 0.0645433255269321, 0.0646124217621569, 0.06503921741429448, 0.06525943991253882, 0.06465907035630306], (5213.449448020529,): [0.1183261183261183, 0.11672247023809522, 0.11743676825453571, 0.11806282722513091, 0.11829801835806805, 0.11718969555035133, 0.11699566682715447, 0.118181017008901, 0.11866117231519636, 0.11729064930367154], (5112.418074245511,): [0.13436889907478142, 0.13253348214285715, 0.13334524979890966, 0.13420593368237344, 0.13433988161619626, 0.13292740046838405, 0.13269138180067408, 0.13413236978937162, 0.13472374064418466, 0.13320672816060775]}\n",
      "[((5475.705879031485,), 0.07610798082583464), ((5393.467446169235,), 0.08956353544697664), ((5816.6294417382705,), 0.01965277165770692), ((5934.265685006311,), 0.0), ((5725.084392914211,), 0.03507535031285806), ((5046.555985630564,), 0.14523589269195186), ((5615.723213974947,), 0.053149440753511), ((5542.0918727504795,), 0.06525943991253882), ((5213.449448020529,), 0.11866117231519636), ((5112.418074245511,), 0.13472374064418466)]\n",
      "(5934.265685006311,) 0.0\n"
     ]
    }
   ],
   "source": [
    "a,b = minmax(r,dsg,ctx)\n",
    "print(a,b)"
   ]
  },
  {
   "cell_type": "code",
   "execution_count": 14,
   "metadata": {},
   "outputs": [
    {
     "name": "stdout",
     "output_type": "stream",
     "text": [
      "(array([1809.9751893 ,   16.16937605,    5.04024853]), array([5.47581348e-65, 1.13908724e-04, 2.70125584e-02]))\n"
     ]
    }
   ],
   "source": [
    "z1 = feature_scoring.F_REGRESSION(X=data, y=outcomes['apogeeAlt'])\n",
    "print(z1)"
   ]
  },
  {
   "cell_type": "code",
   "execution_count": 15,
   "metadata": {},
   "outputs": [],
   "source": [
    "from __future__ import (absolute_import, print_function, division,\n",
    "                        unicode_literals)\n",
    "\n",
    "\n",
    "from ema_workbench import (Model, RealParameter, MultiprocessingEvaluator, CategoricalParameter,\n",
    "                           IntegerParameter, ScalarOutcome, ArrayOutcome, Constant, ema_logging,\n",
    "                           perform_experiments)\n",
    "from ema_workbench.em_framework.evaluators import (MC,LHS,SOBOL)\n",
    "\n",
    "from ema_workbench.analysis import feature_scoring\n",
    "from ema_workbench.analysis import prim\n",
    "\n",
    "from ema_workbench.analysis import scenario_discovery_util as sdutil\n",
    "\n",
    "import pandas as pd\n",
    "import seaborn as sns\n",
    "import numpy as np\n",
    "\n",
    "import matplotlib.pyplot as plt"
   ]
  },
  {
   "cell_type": "code",
   "execution_count": 16,
   "metadata": {},
   "outputs": [
    {
     "data": {
      "image/png": "[encoded data removed]",
      "text/plain": [
       "<Figure size 432x288 with 2 Axes>"
      ]
     },
     "metadata": {},
     "output_type": "display_data"
    }
   ],
   "source": [
    "regretData = []\n",
    "sns.set()\n",
    "mat = np.random.rand(len(dsg),len(ctx))\n",
    "\n",
    "i = 0\n",
    "j = 0\n",
    "for d in dsg:\n",
    "    j=0\n",
    "    for sc in ctx:\n",
    "        mat[i,j]= r[d,sc]\n",
    "        regretData.append(mat[i,j])\n",
    "        j=j+1\n",
    "    i=i+1\n",
    "\n",
    "sns.set()\n",
    "vM = max(regretData)\n",
    "vm = min(regretData)\n",
    "ax = sns.heatmap(mat, vmin=vm, vmax=vM)\n",
    "plt.show()"
   ]
  },
  {
   "cell_type": "raw",
   "metadata": {},
   "source": [
    "The above structute\n",
    "\n",
    "\n",
    "wfwe\n",
    "few'\n",
    "ew\n",
    "ewew'ew'\n",
    "ewew\n"
   ]
  },
  {
   "cell_type": "code",
   "execution_count": null,
   "metadata": {},
   "outputs": [],
   "source": []
  }
 ],
 "metadata": {
  "kernelspec": {
   "display_name": "Python 3",
   "language": "python",
   "name": "python3"
  },
  "language_info": {
   "codemirror_mode": {
    "name": "ipython",
    "version": 3
   },
   "file_extension": ".py",
   "mimetype": "text/x-python",
   "name": "python",
   "nbconvert_exporter": "python",
   "pygments_lexer": "ipython3",
   "version": "3.8.5"
  }
 },
 "nbformat": 4,
 "nbformat_minor": 4
}
