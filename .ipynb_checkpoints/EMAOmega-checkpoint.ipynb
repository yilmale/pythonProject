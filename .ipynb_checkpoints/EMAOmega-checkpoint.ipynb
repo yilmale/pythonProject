{
 "cells": [
  {
   "cell_type": "markdown",
   "metadata": {},
   "source": [
    "The analysis module uses **exploratory modeling and analysis workbench** along with widely used data processing libraries **pandas** and **numpy**. The **seaborn** library is used to generate heatmap visualizations of the results of the analysis. "
   ]
  },
  {
   "cell_type": "code",
   "execution_count": null,
   "metadata": {},
   "outputs": [],
   "source": [
    "from __future__ import (absolute_import, print_function, division,\n",
    "                        unicode_literals)\n",
    "\n",
    "\n",
    "from ema_workbench import (Model, RealParameter, MultiprocessingEvaluator, CategoricalParameter,\n",
    "                           IntegerParameter, ScalarOutcome, ArrayOutcome, Constant, ema_logging,\n",
    "                           perform_experiments)\n",
    "from ema_workbench.em_framework.evaluators import (MC,LHS,SOBOL)\n",
    "\n",
    "from ema_workbench.analysis import feature_scoring\n",
    "\n",
    "import pandas as pd\n",
    "import seaborn as sns\n",
    "import numpy as np\n",
    "\n",
    "import matplotlib.pyplot as plt"
   ]
  },
  {
   "cell_type": "markdown",
   "metadata": {},
   "source": [
    "The **relativeRegret** function calculates the regret values associated with each pair of **(design, context)** configuration.  That is, the performance of a specific design, *X* is compared to the alternative designs under a given scenario (context), and the difference between the best design solution and *X* is defined as the regret value for *X*. The regret values for each design under each scenario are calculated to provide a basis for **robustness analysis**.\n",
    "\n",
    "The function takse as input the experiment design matrix (data), the outcomes data frame, design parameters (designParams), contextual parameters that define the scenario space,and the performance measure for which the regret measures are collected. The output of the **relativeRegret** is a triplet: the regret matrix, the distinct design data points in the experiment design frame (data), and the distinct context data points in the same experiment design frame. The regret matrix is defined as a dictionary,  *{(d,s): r}*, where *d* and *r* represent the design and context data points, respectively.\n"
   ]
  },
  {
   "cell_type": "code",
   "execution_count": null,
   "metadata": {},
   "outputs": [],
   "source": [
    "def relativeRegret(data,outcomes,designParams,contextParams,outcomeParams):\n",
    "    myres = {}\n",
    "    design = []\n",
    "    scenario = []\n",
    "    designSet = set()\n",
    "    contextSet = set()\n",
    "\n",
    "    for ind in data.index:\n",
    "        for i in designParams:\n",
    "            design.append(data[i][ind])\n",
    "        for j in contextParams:\n",
    "            scenario.append(data[j][ind])\n",
    "        elm = {(tuple(design), tuple(scenario)): outcomes[outcomeParams[0]][ind]}\n",
    "        myres.update(elm)\n",
    "        designSet.add(tuple(design))\n",
    "        contextSet.add(tuple(scenario))\n",
    "        design = []\n",
    "        scenario = []\n",
    "\n",
    "    measures = {}\n",
    "    for sc in contextSet:\n",
    "        m = []\n",
    "        for d in designSet:\n",
    "            o = myres[(d, sc)]\n",
    "            m.append(o)\n",
    "            measures[sc] = m\n",
    "\n",
    "    maxs = {}\n",
    "    for sc in contextSet:\n",
    "        maxs[sc] = max(measures[sc])\n",
    "\n",
    "    regret = {}\n",
    "    for sc in contextSet:\n",
    "        for d in designSet:\n",
    "            rm = {(d, sc): (maxs[sc] - myres[(d, sc)]) / maxs[sc]}\n",
    "            regret.update(rm)\n",
    "\n",
    "    return (regret,contextSet,designSet)"
   ]
  },
  {
   "cell_type": "markdown",
   "metadata": {},
   "source": [
    "The **minmax** function uses the output of the relativeRegret function anc calculates the design solution that has the minimum worst regret across all designs. The function returns the design information (a tuple of values of design parameters) and the associated regret value that is minimum of worst-case regrets of designs."
   ]
  },
  {
   "cell_type": "code",
   "execution_count": 16,
   "metadata": {},
   "outputs": [],
   "source": [
    "def minmax(r,dsg,ctx):\n",
    "    worstRegret = {}\n",
    "    for d in dsg:\n",
    "        rdata = []\n",
    "        for sc in ctx:\n",
    "            rdata.append(r[d, sc])\n",
    "        elm = {d: rdata}\n",
    "        worstRegret.update(elm)\n",
    "\n",
    "    maxs = []\n",
    "    maxvs = []\n",
    "    for d, l in worstRegret.items():\n",
    "        maxs.append(max(l))\n",
    "        maxvs.append((d, max(l)))\n",
    "\n",
    "    minmax = min(maxs)\n",
    "    minmaxKey=0\n",
    "    for x in maxvs:\n",
    "        if (x[1] == minmax):\n",
    "            minmaxKey = x[0]\n",
    "\n",
    "    return minmaxKey,minmax"
   ]
  },
  {
   "cell_type": "markdown",
   "metadata": {},
   "source": [
    "The experiment design matrix and the results of exploratory simulation with the Omega model are retrieved from data fles and stored in two data frames: **data** and **outcomes**."
   ]
  },
  {
   "cell_type": "code",
   "execution_count": 22,
   "metadata": {},
   "outputs": [],
   "source": [
    "data = pd.read_csv('omegaExperiment.csv')\n",
    "outcomes = pd.read_csv('omegaResults.csv')\n"
   ]
  },
  {
   "cell_type": "markdown",
   "metadata": {},
   "source": [
    "The analysis can select spefific features (design and scenario factors) and performance measures. The following script projects the experiment frame (data) onto **SCUDB.targetRange**, **SCUDB.targetAltitude**, and **SCUDB.MassProperties.initialMass**.  In this illustrative example, the *initialMass* variable is a design parameter while *targetAltitude* and *targetRange* are context parameters."
   ]
  },
  {
   "cell_type": "code",
   "execution_count": 23,
   "metadata": {},
   "outputs": [],
   "source": [
    "data = data[['SCUDB.targetRange', 'SCUDB.targetAltitude', 'SCUDB.MassProperties.initialMass']]\n",
    "outcomes = outcomes[['burnout', 'impact', 'apogeeAlt', 'apogeeTime']]"
   ]
  },
  {
   "cell_type": "markdown",
   "metadata": {},
   "source": [
    "The following table shows the experiment design data frame. Lating Hypercube Sampling strategy is used to generate 10 data points from the design parameter space and 10 points from the context (scenario) space. Then full factorial design is used to generate cross-product of the data points. Each design space data point is paired with 10 scenario data points, resulting in 10 x 10 = 100 experiment configurations as shown below."
   ]
  },
  {
   "cell_type": "code",
   "execution_count": 24,
   "metadata": {},
   "outputs": [
    {
     "data": {
      "text/html": [
       "<div>\n",
       "<style scoped>\n",
       "    .dataframe tbody tr th:only-of-type {\n",
       "        vertical-align: middle;\n",
       "    }\n",
       "\n",
       "    .dataframe tbody tr th {\n",
       "        vertical-align: top;\n",
       "    }\n",
       "\n",
       "    .dataframe thead th {\n",
       "        text-align: right;\n",
       "    }\n",
       "</style>\n",
       "<table border=\"1\" class=\"dataframe\">\n",
       "  <thead>\n",
       "    <tr style=\"text-align: right;\">\n",
       "      <th></th>\n",
       "      <th>SCUDB.targetRange</th>\n",
       "      <th>SCUDB.targetAltitude</th>\n",
       "      <th>SCUDB.MassProperties.initialMass</th>\n",
       "    </tr>\n",
       "  </thead>\n",
       "  <tbody>\n",
       "    <tr>\n",
       "      <th>0</th>\n",
       "      <td>194309.994762</td>\n",
       "      <td>17899.496516</td>\n",
       "      <td>5934.265685</td>\n",
       "    </tr>\n",
       "    <tr>\n",
       "      <th>1</th>\n",
       "      <td>101654.444957</td>\n",
       "      <td>19863.285663</td>\n",
       "      <td>5934.265685</td>\n",
       "    </tr>\n",
       "    <tr>\n",
       "      <th>2</th>\n",
       "      <td>177970.762969</td>\n",
       "      <td>17139.581542</td>\n",
       "      <td>5934.265685</td>\n",
       "    </tr>\n",
       "    <tr>\n",
       "      <th>3</th>\n",
       "      <td>139675.343339</td>\n",
       "      <td>16989.007168</td>\n",
       "      <td>5934.265685</td>\n",
       "    </tr>\n",
       "    <tr>\n",
       "      <th>4</th>\n",
       "      <td>154970.990475</td>\n",
       "      <td>19331.595554</td>\n",
       "      <td>5934.265685</td>\n",
       "    </tr>\n",
       "    <tr>\n",
       "      <th>...</th>\n",
       "      <td>...</td>\n",
       "      <td>...</td>\n",
       "      <td>...</td>\n",
       "    </tr>\n",
       "    <tr>\n",
       "      <th>95</th>\n",
       "      <td>188804.475102</td>\n",
       "      <td>15168.837085</td>\n",
       "      <td>5475.705879</td>\n",
       "    </tr>\n",
       "    <tr>\n",
       "      <th>96</th>\n",
       "      <td>123257.336063</td>\n",
       "      <td>16463.010894</td>\n",
       "      <td>5475.705879</td>\n",
       "    </tr>\n",
       "    <tr>\n",
       "      <th>97</th>\n",
       "      <td>163408.151044</td>\n",
       "      <td>18282.136538</td>\n",
       "      <td>5475.705879</td>\n",
       "    </tr>\n",
       "    <tr>\n",
       "      <th>98</th>\n",
       "      <td>117220.924396</td>\n",
       "      <td>18513.405635</td>\n",
       "      <td>5475.705879</td>\n",
       "    </tr>\n",
       "    <tr>\n",
       "      <th>99</th>\n",
       "      <td>148417.117823</td>\n",
       "      <td>15978.205399</td>\n",
       "      <td>5475.705879</td>\n",
       "    </tr>\n",
       "  </tbody>\n",
       "</table>\n",
       "<p>100 rows × 3 columns</p>\n",
       "</div>"
      ],
      "text/plain": [
       "    SCUDB.targetRange  SCUDB.targetAltitude  SCUDB.MassProperties.initialMass\n",
       "0       194309.994762          17899.496516                       5934.265685\n",
       "1       101654.444957          19863.285663                       5934.265685\n",
       "2       177970.762969          17139.581542                       5934.265685\n",
       "3       139675.343339          16989.007168                       5934.265685\n",
       "4       154970.990475          19331.595554                       5934.265685\n",
       "..                ...                   ...                               ...\n",
       "95      188804.475102          15168.837085                       5475.705879\n",
       "96      123257.336063          16463.010894                       5475.705879\n",
       "97      163408.151044          18282.136538                       5475.705879\n",
       "98      117220.924396          18513.405635                       5475.705879\n",
       "99      148417.117823          15978.205399                       5475.705879\n",
       "\n",
       "[100 rows x 3 columns]"
      ]
     },
     "execution_count": 24,
     "metadata": {},
     "output_type": "execute_result"
    }
   ],
   "source": [
    "data"
   ]
  },
  {
   "cell_type": "markdown",
   "metadata": {},
   "source": [
    "The outcomes data table stores the results of the experiments. Each row of the table shows the result of the experiment defined by the respective row in the experiment frame shown above. Each column represents a specific performance metric (e.g., burnout time, impacttime) and its observed values across the experiments conducted during exploratory simulation."
   ]
  },
  {
   "cell_type": "code",
   "execution_count": 9,
   "metadata": {},
   "outputs": [
    {
     "data": {
      "text/html": [
       "<div>\n",
       "<style scoped>\n",
       "    .dataframe tbody tr th:only-of-type {\n",
       "        vertical-align: middle;\n",
       "    }\n",
       "\n",
       "    .dataframe tbody tr th {\n",
       "        vertical-align: top;\n",
       "    }\n",
       "\n",
       "    .dataframe thead th {\n",
       "        text-align: right;\n",
       "    }\n",
       "</style>\n",
       "<table border=\"1\" class=\"dataframe\">\n",
       "  <thead>\n",
       "    <tr style=\"text-align: right;\">\n",
       "      <th></th>\n",
       "      <th>burnout</th>\n",
       "      <th>impact</th>\n",
       "      <th>apogeeAlt</th>\n",
       "      <th>apogeeTime</th>\n",
       "    </tr>\n",
       "  </thead>\n",
       "  <tbody>\n",
       "    <tr>\n",
       "      <th>0</th>\n",
       "      <td>59.455</td>\n",
       "      <td>253.126052</td>\n",
       "      <td>64091.619486</td>\n",
       "      <td>153.485</td>\n",
       "    </tr>\n",
       "    <tr>\n",
       "      <th>1</th>\n",
       "      <td>51.925</td>\n",
       "      <td>189.092099</td>\n",
       "      <td>40701.534735</td>\n",
       "      <td>122.590</td>\n",
       "    </tr>\n",
       "    <tr>\n",
       "      <th>2</th>\n",
       "      <td>58.285</td>\n",
       "      <td>243.733718</td>\n",
       "      <td>59677.919089</td>\n",
       "      <td>148.220</td>\n",
       "    </tr>\n",
       "    <tr>\n",
       "      <th>3</th>\n",
       "      <td>55.290</td>\n",
       "      <td>219.136536</td>\n",
       "      <td>49752.052975</td>\n",
       "      <td>135.510</td>\n",
       "    </tr>\n",
       "    <tr>\n",
       "      <th>4</th>\n",
       "      <td>56.735</td>\n",
       "      <td>227.932595</td>\n",
       "      <td>54303.500372</td>\n",
       "      <td>141.500</td>\n",
       "    </tr>\n",
       "    <tr>\n",
       "      <th>...</th>\n",
       "      <td>...</td>\n",
       "      <td>...</td>\n",
       "      <td>...</td>\n",
       "      <td>...</td>\n",
       "    </tr>\n",
       "    <tr>\n",
       "      <th>95</th>\n",
       "      <td>54.435</td>\n",
       "      <td>252.246883</td>\n",
       "      <td>64136.339283</td>\n",
       "      <td>149.645</td>\n",
       "    </tr>\n",
       "    <tr>\n",
       "      <th>96</th>\n",
       "      <td>49.720</td>\n",
       "      <td>210.311915</td>\n",
       "      <td>47560.836808</td>\n",
       "      <td>128.905</td>\n",
       "    </tr>\n",
       "    <tr>\n",
       "      <th>97</th>\n",
       "      <td>52.955</td>\n",
       "      <td>235.312020</td>\n",
       "      <td>58328.474062</td>\n",
       "      <td>142.755</td>\n",
       "    </tr>\n",
       "    <tr>\n",
       "      <th>98</th>\n",
       "      <td>49.360</td>\n",
       "      <td>204.666454</td>\n",
       "      <td>46526.667478</td>\n",
       "      <td>127.485</td>\n",
       "    </tr>\n",
       "    <tr>\n",
       "      <th>99</th>\n",
       "      <td>51.720</td>\n",
       "      <td>227.297784</td>\n",
       "      <td>53905.628627</td>\n",
       "      <td>137.255</td>\n",
       "    </tr>\n",
       "  </tbody>\n",
       "</table>\n",
       "<p>100 rows × 4 columns</p>\n",
       "</div>"
      ],
      "text/plain": [
       "    burnout      impact     apogeeAlt  apogeeTime\n",
       "0    59.455  253.126052  64091.619486     153.485\n",
       "1    51.925  189.092099  40701.534735     122.590\n",
       "2    58.285  243.733718  59677.919089     148.220\n",
       "3    55.290  219.136536  49752.052975     135.510\n",
       "4    56.735  227.932595  54303.500372     141.500\n",
       "..      ...         ...           ...         ...\n",
       "95   54.435  252.246883  64136.339283     149.645\n",
       "96   49.720  210.311915  47560.836808     128.905\n",
       "97   52.955  235.312020  58328.474062     142.755\n",
       "98   49.360  204.666454  46526.667478     127.485\n",
       "99   51.720  227.297784  53905.628627     137.255\n",
       "\n",
       "[100 rows x 4 columns]"
      ]
     },
     "execution_count": 9,
     "metadata": {},
     "output_type": "execute_result"
    }
   ],
   "source": [
    "outcomes"
   ]
  },
  {
   "cell_type": "markdown",
   "metadata": {},
   "source": [
    "Next, we select a subset (or all) of the features of the experiment to focus on a specific research question. \n",
    "For illustraton purposes, in this example, we focus on the design and context parameters defined earlier while\n",
    "narrowing our focus only to the *burnout time*, which is one of the four performance metrics measured in this \n",
    "hypothetical simulation study."
   ]
  },
  {
   "cell_type": "code",
   "execution_count": 10,
   "metadata": {},
   "outputs": [],
   "source": [
    "designParams = ['SCUDB.MassProperties.initialMass']\n",
    "contextParams = ['SCUDB.targetRange', 'SCUDB.targetAltitude']\n",
    "outcomeParams = ['burnout']"
   ]
  },
  {
   "cell_type": "markdown",
   "metadata": {},
   "source": [
    "Given the design, context (scenario), and outcome parameters of interest, the **relativeRegret** function is applied to calculate \n",
    "the regret values associated with (design,scenario) pairs. The result (r,ctx,dsg) includes the regret matrix, as well as the\n",
    "context and design data points used in the calculation of regret vvalues."
   ]
  },
  {
   "cell_type": "code",
   "execution_count": 11,
   "metadata": {},
   "outputs": [],
   "source": [
    "r,ctx,dsg = relativeRegret(data,outcomes,designParams,contextParams,outcomeParams)"
   ]
  },
  {
   "cell_type": "code",
   "execution_count": 13,
   "metadata": {},
   "outputs": [
    {
     "data": {
      "text/plain": [
       "{(101654.44495714606, 19863.2856633292),\n",
       " (117220.92439644404, 18513.40563481938),\n",
       " (123257.33606324367, 16463.010893961884),\n",
       " (139675.3433389943, 16989.007167849442),\n",
       " (148417.11782261735, 15978.20539939137),\n",
       " (154970.9904749166, 19331.59555397015),\n",
       " (163408.15104448446, 18282.13653790799),\n",
       " (177970.76296935216, 17139.581542399686),\n",
       " (188804.47510191367, 15168.837085361632),\n",
       " (194309.99476155106, 17899.49651565495)}"
      ]
     },
     "execution_count": 13,
     "metadata": {},
     "output_type": "execute_result"
    }
   ],
   "source": [
    "ctx"
   ]
  },
  {
   "cell_type": "code",
   "execution_count": 14,
   "metadata": {},
   "outputs": [
    {
     "data": {
      "text/plain": [
       "{(5046.555985630564,),\n",
       " (5112.418074245511,),\n",
       " (5213.449448020529,),\n",
       " (5393.467446169235,),\n",
       " (5475.705879031485,),\n",
       " (5542.0918727504795,),\n",
       " (5615.723213974947,),\n",
       " (5725.084392914211,),\n",
       " (5816.6294417382705,),\n",
       " (5934.265685006311,)}"
      ]
     },
     "execution_count": 14,
     "metadata": {},
     "output_type": "execute_result"
    }
   ],
   "source": [
    "dsg"
   ]
  },
  {
   "cell_type": "markdown",
   "metadata": {},
   "source": [
    "For instance, the following is the relative regret (commpared to maximum regret) of the design parameter value\n",
    "5046.555985630564 under the scenario (101654.44495714606, 19863.2856633292) that represents a specific target altitude \n",
    "and target range. "
   ]
  },
  {
   "cell_type": "code",
   "execution_count": 29,
   "metadata": {},
   "outputs": [
    {
     "data": {
      "text/plain": [
       "0.14299470389985552"
      ]
     },
     "execution_count": 29,
     "metadata": {},
     "output_type": "execute_result"
    }
   ],
   "source": [
    "r[((5046.555985630564,),(101654.44495714606, 19863.2856633292))]"
   ]
  },
  {
   "cell_type": "markdown",
   "metadata": {},
   "source": [
    "The **minmax** function determines which specific design/strategy minimizes the worst regret. \n",
    "The function considers the worst regret value for each design alternative across all scenarios and \n",
    "chooses the one that the lowest worst regret."
   ]
  },
  {
   "cell_type": "code",
   "execution_count": 25,
   "metadata": {},
   "outputs": [],
   "source": [
    "a,b = minmax(r,dsg,ctx)"
   ]
  },
  {
   "cell_type": "markdown",
   "metadata": {},
   "source": [
    "In this illustrative example, the design (i.e., *initialMass* value of 5934.265685006311) has the minimum worst regret.\n",
    "The value of the minimum worst case regret is 0.0. Coincidentally, this indicates that the specific *initialMass* value associated with \n",
    "the design is optimal across all scenarios, and the outcome for this design configuration is not sensitive to contextual \n",
    "conditions with respect to the perfoemance metric of interest (i.e., *burnout time*)."
   ]
  },
  {
   "cell_type": "code",
   "execution_count": 20,
   "metadata": {},
   "outputs": [
    {
     "data": {
      "text/plain": [
       "((5934.265685006311,), 0.0)"
      ]
     },
     "execution_count": 20,
     "metadata": {},
     "output_type": "execute_result"
    }
   ],
   "source": [
    "(a,b)"
   ]
  },
  {
   "cell_type": "code",
   "execution_count": 30,
   "metadata": {},
   "outputs": [
    {
     "data": {
      "image/png": "[encoded data removed]",
      "text/plain": [
       "<Figure size 432x288 with 2 Axes>"
      ]
     },
     "metadata": {},
     "output_type": "display_data"
    }
   ],
   "source": [
    "regretData = []\n",
    "sns.set()\n",
    "mat = np.random.rand(len(dsg),len(ctx))\n",
    "\n",
    "i = 0\n",
    "j = 0\n",
    "for d in dsg:\n",
    "    j=0\n",
    "    for sc in ctx:\n",
    "        mat[i,j]= r[d,sc]\n",
    "        regretData.append(mat[i,j])\n",
    "        j=j+1\n",
    "    i=i+1\n",
    "\n",
    "sns.set()\n",
    "vM = max(regretData)\n",
    "vm = min(regretData)\n",
    "ax = sns.heatmap(mat, vmin=vm, vmax=vM)\n",
    "plt.show()"
   ]
  },
  {
   "cell_type": "code",
   "execution_count": null,
   "metadata": {},
   "outputs": [],
   "source": []
  }
 ],
 "metadata": {
  "kernelspec": {
   "display_name": "Python 3",
   "language": "python",
   "name": "python3"
  },
  "language_info": {
   "codemirror_mode": {
    "name": "ipython",
    "version": 3
   },
   "file_extension": ".py",
   "mimetype": "text/x-python",
   "name": "python",
   "nbconvert_exporter": "python",
   "pygments_lexer": "ipython3",
   "version": "3.8.5"
  }
 },
 "nbformat": 4,
 "nbformat_minor": 4
}
